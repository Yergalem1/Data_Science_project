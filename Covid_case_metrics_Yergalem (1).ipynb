{
  "nbformat": 4,
  "nbformat_minor": 0,
  "metadata": {
    "colab": {
      "name": "Covid case metrics_Yergalem.ipynb",
      "provenance": []
    },
    "kernelspec": {
      "name": "python3",
      "display_name": "Python 3"
    },
    "language_info": {
      "name": "python"
    }
  },
  "cells": [
    {
      "cell_type": "code",
      "execution_count": null,
      "metadata": {
        "id": "pCRaTVlbU4rE"
      },
      "outputs": [],
      "source": [
        "import pandas as pd\n",
        "import requests\n",
        "from bs4 import BeautifulSoup\n",
        "url='https://www.worldometers.info/coronavirus/country/us/#nav-yesterday'\n",
        "resp = requests.get(url)\n",
        "data = resp.text # parse HTTP response\n",
        "soup = BeautifulSoup(data, 'html.parser') \n",
        "table = soup.find(id=\"usa_table_countries_today\")\n",
        "df = pd.read_html(str(table),)[0]\n",
        "\n",
        "#exclude the '#', 'source', and 'projections' columns \n",
        "\n",
        "df=df.drop([\"#\",\"Source\",\"Projections\"], axis=1)\n",
        "\n",
        "\n"
      ]
    },
    {
      "cell_type": "code",
      "source": [
        ""
      ],
      "metadata": {
        "id": "txF-RGqsvdVw"
      },
      "execution_count": null,
      "outputs": []
    },
    {
      "cell_type": "markdown",
      "source": [
        ""
      ],
      "metadata": {
        "id": "ET2dvg3ZAYTN"
      }
    },
    {
      "cell_type": "code",
      "source": [
        "#exclude rows for country totals\n",
        "df.drop([0, 64], axis=0)\n",
        "\n"
      ],
      "metadata": {
        "colab": {
          "base_uri": "https://localhost:8080/",
          "height": 423
        },
        "id": "jrLZYhVOAYt3",
        "outputId": "5abce653-6fce-42b5-8b14-f6d950ca5192"
      },
      "execution_count": null,
      "outputs": [
        {
          "output_type": "execute_result",
          "data": {
            "text/html": [
              "\n",
              "  <div id=\"df-01a3b4cb-8f07-4fa9-b68b-828aca5d75bb\">\n",
              "    <div class=\"colab-df-container\">\n",
              "      <div>\n",
              "<style scoped>\n",
              "    .dataframe tbody tr th:only-of-type {\n",
              "        vertical-align: middle;\n",
              "    }\n",
              "\n",
              "    .dataframe tbody tr th {\n",
              "        vertical-align: top;\n",
              "    }\n",
              "\n",
              "    .dataframe thead th {\n",
              "        text-align: right;\n",
              "    }\n",
              "</style>\n",
              "<table border=\"1\" class=\"dataframe\">\n",
              "  <thead>\n",
              "    <tr style=\"text-align: right;\">\n",
              "      <th></th>\n",
              "      <th>USAState</th>\n",
              "      <th>TotalCases</th>\n",
              "      <th>NewCases</th>\n",
              "      <th>TotalDeaths</th>\n",
              "      <th>NewDeaths</th>\n",
              "      <th>TotalRecovered</th>\n",
              "      <th>ActiveCases</th>\n",
              "      <th>Tot Cases/1M pop</th>\n",
              "      <th>Deaths/1M pop</th>\n",
              "      <th>TotalTests</th>\n",
              "      <th>Tests/ 1M pop</th>\n",
              "      <th>Population</th>\n",
              "    </tr>\n",
              "  </thead>\n",
              "  <tbody>\n",
              "    <tr>\n",
              "      <th>1</th>\n",
              "      <td>California</td>\n",
              "      <td>7450319</td>\n",
              "      <td>NaN</td>\n",
              "      <td>78870.0</td>\n",
              "      <td>NaN</td>\n",
              "      <td>NaN</td>\n",
              "      <td>NaN</td>\n",
              "      <td>188557.0</td>\n",
              "      <td>1996.0</td>\n",
              "      <td>131160392.0</td>\n",
              "      <td>3319489.0</td>\n",
              "      <td>39512223.0</td>\n",
              "    </tr>\n",
              "    <tr>\n",
              "      <th>2</th>\n",
              "      <td>Texas</td>\n",
              "      <td>5972238</td>\n",
              "      <td>NaN</td>\n",
              "      <td>78491.0</td>\n",
              "      <td>NaN</td>\n",
              "      <td>NaN</td>\n",
              "      <td>NaN</td>\n",
              "      <td>205968.0</td>\n",
              "      <td>2707.0</td>\n",
              "      <td>55862537.0</td>\n",
              "      <td>1926568.0</td>\n",
              "      <td>28995881.0</td>\n",
              "    </tr>\n",
              "    <tr>\n",
              "      <th>3</th>\n",
              "      <td>Florida</td>\n",
              "      <td>5351391</td>\n",
              "      <td>NaN</td>\n",
              "      <td>63576.0</td>\n",
              "      <td>NaN</td>\n",
              "      <td>3666925.0</td>\n",
              "      <td>1620890.0</td>\n",
              "      <td>249160.0</td>\n",
              "      <td>2960.0</td>\n",
              "      <td>50466759.0</td>\n",
              "      <td>2349724.0</td>\n",
              "      <td>21477737.0</td>\n",
              "    </tr>\n",
              "    <tr>\n",
              "      <th>4</th>\n",
              "      <td>New York</td>\n",
              "      <td>4832399</td>\n",
              "      <td>NaN</td>\n",
              "      <td>63824.0</td>\n",
              "      <td>NaN</td>\n",
              "      <td>2601723.0</td>\n",
              "      <td>2166852.0</td>\n",
              "      <td>248407.0</td>\n",
              "      <td>3281.0</td>\n",
              "      <td>95500969.0</td>\n",
              "      <td>4909177.0</td>\n",
              "      <td>19453561.0</td>\n",
              "    </tr>\n",
              "    <tr>\n",
              "      <th>5</th>\n",
              "      <td>Illinois</td>\n",
              "      <td>2773362</td>\n",
              "      <td>NaN</td>\n",
              "      <td>33446.0</td>\n",
              "      <td>NaN</td>\n",
              "      <td>1924335.0</td>\n",
              "      <td>815581.0</td>\n",
              "      <td>218861.0</td>\n",
              "      <td>2639.0</td>\n",
              "      <td>49488107.0</td>\n",
              "      <td>3905367.0</td>\n",
              "      <td>12671821.0</td>\n",
              "    </tr>\n",
              "    <tr>\n",
              "      <th>...</th>\n",
              "      <td>...</td>\n",
              "      <td>...</td>\n",
              "      <td>...</td>\n",
              "      <td>...</td>\n",
              "      <td>...</td>\n",
              "      <td>...</td>\n",
              "      <td>...</td>\n",
              "      <td>...</td>\n",
              "      <td>...</td>\n",
              "      <td>...</td>\n",
              "      <td>...</td>\n",
              "      <td>...</td>\n",
              "    </tr>\n",
              "    <tr>\n",
              "      <th>59</th>\n",
              "      <td>Federal Prisons</td>\n",
              "      <td>63510</td>\n",
              "      <td>NaN</td>\n",
              "      <td>286.0</td>\n",
              "      <td>NaN</td>\n",
              "      <td>NaN</td>\n",
              "      <td>NaN</td>\n",
              "      <td>NaN</td>\n",
              "      <td>NaN</td>\n",
              "      <td>129484.0</td>\n",
              "      <td>NaN</td>\n",
              "      <td>NaN</td>\n",
              "    </tr>\n",
              "    <tr>\n",
              "      <th>60</th>\n",
              "      <td>Navajo Nation</td>\n",
              "      <td>47248</td>\n",
              "      <td>NaN</td>\n",
              "      <td>1603.0</td>\n",
              "      <td>NaN</td>\n",
              "      <td>42677.0</td>\n",
              "      <td>2968.0</td>\n",
              "      <td>NaN</td>\n",
              "      <td>NaN</td>\n",
              "      <td>457959.0</td>\n",
              "      <td>NaN</td>\n",
              "      <td>NaN</td>\n",
              "    </tr>\n",
              "    <tr>\n",
              "      <th>61</th>\n",
              "      <td>Grand Princess Ship</td>\n",
              "      <td>122</td>\n",
              "      <td>NaN</td>\n",
              "      <td>7.0</td>\n",
              "      <td>NaN</td>\n",
              "      <td>115.0</td>\n",
              "      <td>0.0</td>\n",
              "      <td>NaN</td>\n",
              "      <td>NaN</td>\n",
              "      <td>NaN</td>\n",
              "      <td>NaN</td>\n",
              "      <td>NaN</td>\n",
              "    </tr>\n",
              "    <tr>\n",
              "      <th>62</th>\n",
              "      <td>Wuhan Repatriated</td>\n",
              "      <td>3</td>\n",
              "      <td>NaN</td>\n",
              "      <td>NaN</td>\n",
              "      <td>NaN</td>\n",
              "      <td>3.0</td>\n",
              "      <td>0.0</td>\n",
              "      <td>NaN</td>\n",
              "      <td>NaN</td>\n",
              "      <td>3.0</td>\n",
              "      <td>NaN</td>\n",
              "      <td>NaN</td>\n",
              "    </tr>\n",
              "    <tr>\n",
              "      <th>63</th>\n",
              "      <td>Diamond Princess Ship</td>\n",
              "      <td>46</td>\n",
              "      <td>NaN</td>\n",
              "      <td>NaN</td>\n",
              "      <td>NaN</td>\n",
              "      <td>46.0</td>\n",
              "      <td>0.0</td>\n",
              "      <td>NaN</td>\n",
              "      <td>NaN</td>\n",
              "      <td>46.0</td>\n",
              "      <td>NaN</td>\n",
              "      <td>NaN</td>\n",
              "    </tr>\n",
              "  </tbody>\n",
              "</table>\n",
              "<p>63 rows × 12 columns</p>\n",
              "</div>\n",
              "      <button class=\"colab-df-convert\" onclick=\"convertToInteractive('df-01a3b4cb-8f07-4fa9-b68b-828aca5d75bb')\"\n",
              "              title=\"Convert this dataframe to an interactive table.\"\n",
              "              style=\"display:none;\">\n",
              "        \n",
              "  <svg xmlns=\"http://www.w3.org/2000/svg\" height=\"24px\"viewBox=\"0 0 24 24\"\n",
              "       width=\"24px\">\n",
              "    <path d=\"M0 0h24v24H0V0z\" fill=\"none\"/>\n",
              "    <path d=\"M18.56 5.44l.94 2.06.94-2.06 2.06-.94-2.06-.94-.94-2.06-.94 2.06-2.06.94zm-11 1L8.5 8.5l.94-2.06 2.06-.94-2.06-.94L8.5 2.5l-.94 2.06-2.06.94zm10 10l.94 2.06.94-2.06 2.06-.94-2.06-.94-.94-2.06-.94 2.06-2.06.94z\"/><path d=\"M17.41 7.96l-1.37-1.37c-.4-.4-.92-.59-1.43-.59-.52 0-1.04.2-1.43.59L10.3 9.45l-7.72 7.72c-.78.78-.78 2.05 0 2.83L4 21.41c.39.39.9.59 1.41.59.51 0 1.02-.2 1.41-.59l7.78-7.78 2.81-2.81c.8-.78.8-2.07 0-2.86zM5.41 20L4 18.59l7.72-7.72 1.47 1.35L5.41 20z\"/>\n",
              "  </svg>\n",
              "      </button>\n",
              "      \n",
              "  <style>\n",
              "    .colab-df-container {\n",
              "      display:flex;\n",
              "      flex-wrap:wrap;\n",
              "      gap: 12px;\n",
              "    }\n",
              "\n",
              "    .colab-df-convert {\n",
              "      background-color: #E8F0FE;\n",
              "      border: none;\n",
              "      border-radius: 50%;\n",
              "      cursor: pointer;\n",
              "      display: none;\n",
              "      fill: #1967D2;\n",
              "      height: 32px;\n",
              "      padding: 0 0 0 0;\n",
              "      width: 32px;\n",
              "    }\n",
              "\n",
              "    .colab-df-convert:hover {\n",
              "      background-color: #E2EBFA;\n",
              "      box-shadow: 0px 1px 2px rgba(60, 64, 67, 0.3), 0px 1px 3px 1px rgba(60, 64, 67, 0.15);\n",
              "      fill: #174EA6;\n",
              "    }\n",
              "\n",
              "    [theme=dark] .colab-df-convert {\n",
              "      background-color: #3B4455;\n",
              "      fill: #D2E3FC;\n",
              "    }\n",
              "\n",
              "    [theme=dark] .colab-df-convert:hover {\n",
              "      background-color: #434B5C;\n",
              "      box-shadow: 0px 1px 3px 1px rgba(0, 0, 0, 0.15);\n",
              "      filter: drop-shadow(0px 1px 2px rgba(0, 0, 0, 0.3));\n",
              "      fill: #FFFFFF;\n",
              "    }\n",
              "  </style>\n",
              "\n",
              "      <script>\n",
              "        const buttonEl =\n",
              "          document.querySelector('#df-01a3b4cb-8f07-4fa9-b68b-828aca5d75bb button.colab-df-convert');\n",
              "        buttonEl.style.display =\n",
              "          google.colab.kernel.accessAllowed ? 'block' : 'none';\n",
              "\n",
              "        async function convertToInteractive(key) {\n",
              "          const element = document.querySelector('#df-01a3b4cb-8f07-4fa9-b68b-828aca5d75bb');\n",
              "          const dataTable =\n",
              "            await google.colab.kernel.invokeFunction('convertToInteractive',\n",
              "                                                     [key], {});\n",
              "          if (!dataTable) return;\n",
              "\n",
              "          const docLinkHtml = 'Like what you see? Visit the ' +\n",
              "            '<a target=\"_blank\" href=https://colab.research.google.com/notebooks/data_table.ipynb>data table notebook</a>'\n",
              "            + ' to learn more about interactive tables.';\n",
              "          element.innerHTML = '';\n",
              "          dataTable['output_type'] = 'display_data';\n",
              "          await google.colab.output.renderOutput(dataTable, element);\n",
              "          const docLink = document.createElement('div');\n",
              "          docLink.innerHTML = docLinkHtml;\n",
              "          element.appendChild(docLink);\n",
              "        }\n",
              "      </script>\n",
              "    </div>\n",
              "  </div>\n",
              "  "
            ],
            "text/plain": [
              "                 USAState  TotalCases  ...  Tests/ 1M pop  Population\n",
              "1              California     7450319  ...      3319489.0  39512223.0\n",
              "2                   Texas     5972238  ...      1926568.0  28995881.0\n",
              "3                 Florida     5351391  ...      2349724.0  21477737.0\n",
              "4                New York     4832399  ...      4909177.0  19453561.0\n",
              "5                Illinois     2773362  ...      3905367.0  12671821.0\n",
              "..                    ...         ...  ...            ...         ...\n",
              "59        Federal Prisons       63510  ...            NaN         NaN\n",
              "60          Navajo Nation       47248  ...            NaN         NaN\n",
              "61    Grand Princess Ship         122  ...            NaN         NaN\n",
              "62      Wuhan Repatriated           3  ...            NaN         NaN\n",
              "63  Diamond Princess Ship          46  ...            NaN         NaN\n",
              "\n",
              "[63 rows x 12 columns]"
            ]
          },
          "metadata": {},
          "execution_count": 84
        }
      ]
    },
    {
      "cell_type": "markdown",
      "source": [
        "# New Section"
      ],
      "metadata": {
        "id": "ozOMZAuntV75"
      }
    },
    {
      "cell_type": "markdown",
      "source": [
        ""
      ],
      "metadata": {
        "id": "AeyY2I9zUXOg"
      }
    },
    {
      "cell_type": "code",
      "source": [
        "#describe the dataframe by printing the first few rows\n",
        "df.describe()"
      ],
      "metadata": {
        "colab": {
          "base_uri": "https://localhost:8080/",
          "height": 299
        },
        "id": "sifZvUqgUYPU",
        "outputId": "23b336aa-338f-41a4-ec66-9194da1e8c63"
      },
      "execution_count": null,
      "outputs": [
        {
          "output_type": "execute_result",
          "data": {
            "text/html": [
              "\n",
              "  <div id=\"df-1157aa92-2427-42e5-bf84-00c9136ed110\">\n",
              "    <div class=\"colab-df-container\">\n",
              "      <div>\n",
              "<style scoped>\n",
              "    .dataframe tbody tr th:only-of-type {\n",
              "        vertical-align: middle;\n",
              "    }\n",
              "\n",
              "    .dataframe tbody tr th {\n",
              "        vertical-align: top;\n",
              "    }\n",
              "\n",
              "    .dataframe thead th {\n",
              "        text-align: right;\n",
              "    }\n",
              "</style>\n",
              "<table border=\"1\" class=\"dataframe\">\n",
              "  <thead>\n",
              "    <tr style=\"text-align: right;\">\n",
              "      <th></th>\n",
              "      <th>TotalCases</th>\n",
              "      <th>NewCases</th>\n",
              "      <th>TotalDeaths</th>\n",
              "      <th>NewDeaths</th>\n",
              "      <th>TotalRecovered</th>\n",
              "      <th>ActiveCases</th>\n",
              "      <th>Tot Cases/1M pop</th>\n",
              "      <th>Deaths/1M pop</th>\n",
              "      <th>TotalTests</th>\n",
              "      <th>Tests/ 1M pop</th>\n",
              "      <th>Population</th>\n",
              "    </tr>\n",
              "  </thead>\n",
              "  <tbody>\n",
              "    <tr>\n",
              "      <th>count</th>\n",
              "      <td>6.500000e+01</td>\n",
              "      <td>0.0</td>\n",
              "      <td>62.00000</td>\n",
              "      <td>0.0</td>\n",
              "      <td>4.700000e+01</td>\n",
              "      <td>4.700000e+01</td>\n",
              "      <td>54.000000</td>\n",
              "      <td>54.000000</td>\n",
              "      <td>6.200000e+01</td>\n",
              "      <td>5.400000e+01</td>\n",
              "      <td>5.200000e+01</td>\n",
              "    </tr>\n",
              "    <tr>\n",
              "      <th>mean</th>\n",
              "      <td>3.319658e+06</td>\n",
              "      <td>NaN</td>\n",
              "      <td>43025.66129</td>\n",
              "      <td>NaN</td>\n",
              "      <td>2.530288e+06</td>\n",
              "      <td>1.402457e+06</td>\n",
              "      <td>214451.574074</td>\n",
              "      <td>2500.685185</td>\n",
              "      <td>4.260331e+07</td>\n",
              "      <td>2.612197e+06</td>\n",
              "      <td>6.377432e+06</td>\n",
              "    </tr>\n",
              "    <tr>\n",
              "      <th>std</th>\n",
              "      <td>1.240353e+07</td>\n",
              "      <td>NaN</td>\n",
              "      <td>156787.79277</td>\n",
              "      <td>NaN</td>\n",
              "      <td>8.947577e+06</td>\n",
              "      <td>5.401004e+06</td>\n",
              "      <td>37110.725252</td>\n",
              "      <td>734.837726</td>\n",
              "      <td>1.557870e+08</td>\n",
              "      <td>1.191547e+06</td>\n",
              "      <td>7.300396e+06</td>\n",
              "    </tr>\n",
              "    <tr>\n",
              "      <th>min</th>\n",
              "      <td>3.000000e+00</td>\n",
              "      <td>NaN</td>\n",
              "      <td>7.00000</td>\n",
              "      <td>NaN</td>\n",
              "      <td>3.000000e+00</td>\n",
              "      <td>0.000000e+00</td>\n",
              "      <td>124160.000000</td>\n",
              "      <td>809.000000</td>\n",
              "      <td>3.000000e+00</td>\n",
              "      <td>7.416520e+05</td>\n",
              "      <td>5.787590e+05</td>\n",
              "    </tr>\n",
              "    <tr>\n",
              "      <th>25%</th>\n",
              "      <td>2.166560e+05</td>\n",
              "      <td>NaN</td>\n",
              "      <td>2510.25000</td>\n",
              "      <td>NaN</td>\n",
              "      <td>1.570065e+05</td>\n",
              "      <td>1.921500e+04</td>\n",
              "      <td>200506.250000</td>\n",
              "      <td>1963.750000</td>\n",
              "      <td>3.177435e+06</td>\n",
              "      <td>1.941252e+06</td>\n",
              "      <td>1.790876e+06</td>\n",
              "    </tr>\n",
              "    <tr>\n",
              "      <th>50%</th>\n",
              "      <td>6.814050e+05</td>\n",
              "      <td>NaN</td>\n",
              "      <td>10079.50000</td>\n",
              "      <td>NaN</td>\n",
              "      <td>4.461240e+05</td>\n",
              "      <td>1.417340e+05</td>\n",
              "      <td>217297.000000</td>\n",
              "      <td>2715.500000</td>\n",
              "      <td>7.579212e+06</td>\n",
              "      <td>2.343513e+06</td>\n",
              "      <td>4.342705e+06</td>\n",
              "    </tr>\n",
              "    <tr>\n",
              "      <th>75%</th>\n",
              "      <td>1.524527e+06</td>\n",
              "      <td>NaN</td>\n",
              "      <td>20611.50000</td>\n",
              "      <td>NaN</td>\n",
              "      <td>1.174892e+06</td>\n",
              "      <td>4.116730e+05</td>\n",
              "      <td>237982.000000</td>\n",
              "      <td>3054.000000</td>\n",
              "      <td>1.741181e+07</td>\n",
              "      <td>2.913143e+06</td>\n",
              "      <td>7.362761e+06</td>\n",
              "    </tr>\n",
              "    <tr>\n",
              "      <th>max</th>\n",
              "      <td>7.192593e+07</td>\n",
              "      <td>NaN</td>\n",
              "      <td>889197.00000</td>\n",
              "      <td>NaN</td>\n",
              "      <td>4.436567e+07</td>\n",
              "      <td>2.667106e+07</td>\n",
              "      <td>308780.000000</td>\n",
              "      <td>3602.000000</td>\n",
              "      <td>8.804684e+08</td>\n",
              "      <td>6.708611e+06</td>\n",
              "      <td>3.951222e+07</td>\n",
              "    </tr>\n",
              "  </tbody>\n",
              "</table>\n",
              "</div>\n",
              "      <button class=\"colab-df-convert\" onclick=\"convertToInteractive('df-1157aa92-2427-42e5-bf84-00c9136ed110')\"\n",
              "              title=\"Convert this dataframe to an interactive table.\"\n",
              "              style=\"display:none;\">\n",
              "        \n",
              "  <svg xmlns=\"http://www.w3.org/2000/svg\" height=\"24px\"viewBox=\"0 0 24 24\"\n",
              "       width=\"24px\">\n",
              "    <path d=\"M0 0h24v24H0V0z\" fill=\"none\"/>\n",
              "    <path d=\"M18.56 5.44l.94 2.06.94-2.06 2.06-.94-2.06-.94-.94-2.06-.94 2.06-2.06.94zm-11 1L8.5 8.5l.94-2.06 2.06-.94-2.06-.94L8.5 2.5l-.94 2.06-2.06.94zm10 10l.94 2.06.94-2.06 2.06-.94-2.06-.94-.94-2.06-.94 2.06-2.06.94z\"/><path d=\"M17.41 7.96l-1.37-1.37c-.4-.4-.92-.59-1.43-.59-.52 0-1.04.2-1.43.59L10.3 9.45l-7.72 7.72c-.78.78-.78 2.05 0 2.83L4 21.41c.39.39.9.59 1.41.59.51 0 1.02-.2 1.41-.59l7.78-7.78 2.81-2.81c.8-.78.8-2.07 0-2.86zM5.41 20L4 18.59l7.72-7.72 1.47 1.35L5.41 20z\"/>\n",
              "  </svg>\n",
              "      </button>\n",
              "      \n",
              "  <style>\n",
              "    .colab-df-container {\n",
              "      display:flex;\n",
              "      flex-wrap:wrap;\n",
              "      gap: 12px;\n",
              "    }\n",
              "\n",
              "    .colab-df-convert {\n",
              "      background-color: #E8F0FE;\n",
              "      border: none;\n",
              "      border-radius: 50%;\n",
              "      cursor: pointer;\n",
              "      display: none;\n",
              "      fill: #1967D2;\n",
              "      height: 32px;\n",
              "      padding: 0 0 0 0;\n",
              "      width: 32px;\n",
              "    }\n",
              "\n",
              "    .colab-df-convert:hover {\n",
              "      background-color: #E2EBFA;\n",
              "      box-shadow: 0px 1px 2px rgba(60, 64, 67, 0.3), 0px 1px 3px 1px rgba(60, 64, 67, 0.15);\n",
              "      fill: #174EA6;\n",
              "    }\n",
              "\n",
              "    [theme=dark] .colab-df-convert {\n",
              "      background-color: #3B4455;\n",
              "      fill: #D2E3FC;\n",
              "    }\n",
              "\n",
              "    [theme=dark] .colab-df-convert:hover {\n",
              "      background-color: #434B5C;\n",
              "      box-shadow: 0px 1px 3px 1px rgba(0, 0, 0, 0.15);\n",
              "      filter: drop-shadow(0px 1px 2px rgba(0, 0, 0, 0.3));\n",
              "      fill: #FFFFFF;\n",
              "    }\n",
              "  </style>\n",
              "\n",
              "      <script>\n",
              "        const buttonEl =\n",
              "          document.querySelector('#df-1157aa92-2427-42e5-bf84-00c9136ed110 button.colab-df-convert');\n",
              "        buttonEl.style.display =\n",
              "          google.colab.kernel.accessAllowed ? 'block' : 'none';\n",
              "\n",
              "        async function convertToInteractive(key) {\n",
              "          const element = document.querySelector('#df-1157aa92-2427-42e5-bf84-00c9136ed110');\n",
              "          const dataTable =\n",
              "            await google.colab.kernel.invokeFunction('convertToInteractive',\n",
              "                                                     [key], {});\n",
              "          if (!dataTable) return;\n",
              "\n",
              "          const docLinkHtml = 'Like what you see? Visit the ' +\n",
              "            '<a target=\"_blank\" href=https://colab.research.google.com/notebooks/data_table.ipynb>data table notebook</a>'\n",
              "            + ' to learn more about interactive tables.';\n",
              "          element.innerHTML = '';\n",
              "          dataTable['output_type'] = 'display_data';\n",
              "          await google.colab.output.renderOutput(dataTable, element);\n",
              "          const docLink = document.createElement('div');\n",
              "          docLink.innerHTML = docLinkHtml;\n",
              "          element.appendChild(docLink);\n",
              "        }\n",
              "      </script>\n",
              "    </div>\n",
              "  </div>\n",
              "  "
            ],
            "text/plain": [
              "         TotalCases  NewCases  ...  Tests/ 1M pop    Population\n",
              "count  6.500000e+01       0.0  ...   5.400000e+01  5.200000e+01\n",
              "mean   3.319658e+06       NaN  ...   2.612197e+06  6.377432e+06\n",
              "std    1.240353e+07       NaN  ...   1.191547e+06  7.300396e+06\n",
              "min    3.000000e+00       NaN  ...   7.416520e+05  5.787590e+05\n",
              "25%    2.166560e+05       NaN  ...   1.941252e+06  1.790876e+06\n",
              "50%    6.814050e+05       NaN  ...   2.343513e+06  4.342705e+06\n",
              "75%    1.524527e+06       NaN  ...   2.913143e+06  7.362761e+06\n",
              "max    7.192593e+07       NaN  ...   6.708611e+06  3.951222e+07\n",
              "\n",
              "[8 rows x 11 columns]"
            ]
          },
          "metadata": {},
          "execution_count": 68
        }
      ]
    },
    {
      "cell_type": "code",
      "source": [
        "# Avarage Active cases\n",
        "df[\"ActiveCases\"].mean()"
      ],
      "metadata": {
        "colab": {
          "base_uri": "https://localhost:8080/"
        },
        "id": "Js8RvPyjanXP",
        "outputId": "13308c44-aaa6-42cd-fc04-1f2b489ad408"
      },
      "execution_count": null,
      "outputs": [
        {
          "output_type": "execute_result",
          "data": {
            "text/plain": [
              "1402456.9361702127"
            ]
          },
          "metadata": {},
          "execution_count": 66
        }
      ]
    },
    {
      "cell_type": "code",
      "source": [
        "#Max new death\n",
        "df[\"NewDeaths\"].max()"
      ],
      "metadata": {
        "colab": {
          "base_uri": "https://localhost:8080/"
        },
        "id": "efbuBkdmdhkV",
        "outputId": "02631c00-8a16-4ad7-804e-bb12f0cb7eca"
      },
      "execution_count": null,
      "outputs": [
        {
          "output_type": "execute_result",
          "data": {
            "text/plain": [
              "574.0"
            ]
          },
          "metadata": {},
          "execution_count": 67
        }
      ]
    },
    {
      "cell_type": "code",
      "source": [
        "#calculate Total death\n",
        "df[\"TotalDeaths\"].sum()\n"
      ],
      "metadata": {
        "colab": {
          "base_uri": "https://localhost:8080/"
        },
        "id": "i8t8NdYVhJ8K",
        "outputId": "8e4ab29b-d02e-433a-99a7-b75a6fa83508"
      },
      "execution_count": null,
      "outputs": [
        {
          "output_type": "execute_result",
          "data": {
            "text/plain": [
              "2667591.0"
            ]
          },
          "metadata": {},
          "execution_count": 68
        }
      ]
    },
    {
      "cell_type": "code",
      "source": [
        "# print the the top 5 states (name & value) for each of these metrics: new cases\n",
        "newCases = df.iloc[:, [0, 2]]\n",
        "print(newCases.sort_values(by=[newCases.columns[1]], ascending=False).head())\n",
        "\n",
        "\n"
      ],
      "metadata": {
        "colab": {
          "base_uri": "https://localhost:8080/"
        },
        "id": "Z8W955Lqk-RN",
        "outputId": "3e81ff6a-5f81-4f7d-eab0-2a8718a921fc"
      },
      "execution_count": null,
      "outputs": [
        {
          "output_type": "stream",
          "name": "stdout",
          "text": [
            "     USAState  NewCases\n",
            "0   USA Total       NaN\n",
            "1  California       NaN\n",
            "2       Texas       NaN\n",
            "3     Florida       NaN\n",
            "4    New York       NaN\n"
          ]
        }
      ]
    },
    {
      "cell_type": "code",
      "source": [
        "# print the the top 5 states (name & value) for each of these metrics: total deaths\n",
        "totalDeaths = df.iloc[:, [0, 8]]\n",
        "print(totalDeaths.sort_values(by=[totalDeaths.columns[1]], ascending=False).head())\n",
        "\n"
      ],
      "metadata": {
        "colab": {
          "base_uri": "https://localhost:8080/"
        },
        "id": "UZ2wP5xrmmDW",
        "outputId": "5b0d8d97-6989-4c65-b75e-933be7227711"
      },
      "execution_count": null,
      "outputs": [
        {
          "output_type": "stream",
          "name": "stdout",
          "text": [
            "       USAState  Deaths/1M pop\n",
            "32  Mississippi         3602.0\n",
            "12      Arizona         3520.0\n",
            "11   New Jersey         3463.0\n",
            "23      Alabama         3432.0\n",
            "24    Louisiana         3296.0\n"
          ]
        }
      ]
    },
    {
      "cell_type": "code",
      "source": [
        "# print the the top 5 states (name & value) for each of these metrics: total cases / 1M pop\n",
        "#df[[\"USAState\", \"Tot Cases/1M pop\"]].head(5)\n",
        "totalCases = df.iloc[:, [0, 7]]\n",
        "print(totalCases.sort_values(by=[totalCases.columns[1]], ascending=False).head())\n"
      ],
      "metadata": {
        "colab": {
          "base_uri": "https://localhost:8080/"
        },
        "id": "_iWByop5nu-I",
        "outputId": "3e77b551-cc1b-4909-9574-4606aca1c210"
      },
      "execution_count": null,
      "outputs": [
        {
          "output_type": "stream",
          "name": "stdout",
          "text": [
            "        USAState  Tot Cases/1M pop\n",
            "40  Rhode Island          308780.0\n",
            "45  North Dakota          276933.0\n",
            "47        Alaska          257827.0\n",
            "28          Utah          257642.0\n",
            "13     Tennessee          254234.0\n"
          ]
        }
      ]
    },
    {
      "cell_type": "markdown",
      "source": [
        ""
      ],
      "metadata": {
        "id": "NX8zRX79Wl2I"
      }
    }
  ]
}